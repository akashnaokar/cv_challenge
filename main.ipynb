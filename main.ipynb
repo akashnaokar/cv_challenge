{
 "cells": [
  {
   "cell_type": "code",
   "execution_count": 1,
   "metadata": {},
   "outputs": [],
   "source": [
    "#  pip install -r requirements.txt"
   ]
  },
  {
   "cell_type": "code",
   "execution_count": 2,
   "metadata": {},
   "outputs": [
    {
     "name": "stdout",
     "output_type": "stream",
     "text": [
      "WARNING:tensorflow:From f:\\Coding\\cv_challenge\\.venv\\Lib\\site-packages\\keras\\src\\losses.py:2976: The name tf.losses.sparse_softmax_cross_entropy is deprecated. Please use tf.compat.v1.losses.sparse_softmax_cross_entropy instead.\n",
      "\n"
     ]
    }
   ],
   "source": [
    "import matplotlib.pyplot as plt\n",
    "import numpy as np\n",
    "import PIL\n",
    "from PIL import Image\n",
    "import tensorflow as tf\n",
    "import tensorflow_hub as hub\n",
    "import IPython.display as display\n",
    "\n",
    "\n",
    "from tensorflow import keras\n",
    "from tensorflow.keras import layers\n",
    "from tensorflow.keras.models import Sequential\n",
    "from tensorflow.keras.layers import Input, Dense,Conv2D , MaxPooling2D, Flatten,BatchNormalization,Dropout\n",
    "\n",
    "from sklearn.metrics import classification_report , confusion_matrix , accuracy_score , auc\n",
    "from sklearn.model_selection import train_test_split\n",
    "\n",
    "import cv2\n",
    "import os\n",
    "import xml.etree.cElementTree as et\n",
    "\n",
    "from keras.preprocessing.image import ImageDataGenerator\n",
    "from keras.layers import GlobalAveragePooling2D"
   ]
  },
  {
   "cell_type": "code",
   "execution_count": 3,
   "metadata": {},
   "outputs": [],
   "source": [
    "\"\"\" Unzipping data set to a local director  \"\"\"\n",
    "\n",
    "from zipfile import ZipFile\n",
    "\n",
    "with ZipFile(\"F:\\\\Coding\\\\cv_challenge\\\\archive.zip\", 'r') as Dataset:\n",
    "    Dataset.extractall()"
   ]
  },
  {
   "cell_type": "markdown",
   "metadata": {},
   "source": [
    "### Task 1 : Convert image data into TFRecordDataset format"
   ]
  },
  {
   "cell_type": "code",
   "execution_count": 4,
   "metadata": {},
   "outputs": [],
   "source": [
    "def _bytes_feature(value):\n",
    "  \"\"\"Returns a bytes_list from a string / byte.\"\"\"\n",
    "  if isinstance(value, type(tf.constant(0))):\n",
    "    value = value.numpy() # BytesList won't unpack a string from an EagerTensor.\n",
    "  return tf.train.Feature(bytes_list=tf.train.BytesList(value=[value]))\n",
    "\n",
    "def _float_feature(value):\n",
    "  \"\"\"Returns a float_list from a float / double.\"\"\"\n",
    "  return tf.train.Feature(float_list=tf.train.FloatList(value=[value]))\n",
    "\n",
    "def _int64_feature(value):\n",
    "  \"\"\"Returns an int64_list from a bool / enum / int / uint.\"\"\"\n",
    "  return tf.train.Feature(int64_list=tf.train.Int64List(value=[value]))"
   ]
  },
  {
   "cell_type": "code",
   "execution_count": 27,
   "metadata": {},
   "outputs": [
    {
     "name": "stdout",
     "output_type": "stream",
     "text": [
      "F:\\Coding\\cv_challenge\\NEU-DET\\train\\annotations\n",
      "['crazing_1.xml', 'crazing_10.xml', 'crazing_100.xml', 'crazing_101.xml', 'crazing_102.xml', 'crazing_103.xml', 'crazing_104.xml', 'crazing_105.xml', 'crazing_106.xml', 'crazing_107.xml', 'crazing_108.xml', 'crazing_109.xml', 'crazing_11.xml', 'crazing_110.xml', 'crazing_111.xml', 'crazing_112.xml', 'crazing_113.xml', 'crazing_114.xml', 'crazing_115.xml', 'crazing_116.xml', 'crazing_117.xml', 'crazing_118.xml', 'crazing_119.xml', 'crazing_12.xml', 'crazing_120.xml', 'crazing_121.xml', 'crazing_122.xml', 'crazing_123.xml', 'crazing_124.xml', 'crazing_125.xml', 'crazing_126.xml', 'crazing_127.xml', 'crazing_128.xml', 'crazing_129.xml', 'crazing_13.xml', 'crazing_130.xml', 'crazing_131.xml', 'crazing_132.xml', 'crazing_133.xml', 'crazing_134.xml', 'crazing_135.xml', 'crazing_136.xml', 'crazing_137.xml', 'crazing_138.xml', 'crazing_139.xml', 'crazing_14.xml', 'crazing_140.xml', 'crazing_141.xml', 'crazing_142.xml', 'crazing_143.xml', 'crazing_144.xml', 'crazing_145.xml', 'crazing_146.xml', 'crazing_147.xml', 'crazing_148.xml', 'crazing_149.xml', 'crazing_15.xml', 'crazing_150.xml', 'crazing_151.xml', 'crazing_152.xml', 'crazing_153.xml', 'crazing_154.xml', 'crazing_155.xml', 'crazing_156.xml', 'crazing_157.xml', 'crazing_158.xml', 'crazing_159.xml', 'crazing_16.xml', 'crazing_160.xml', 'crazing_161.xml', 'crazing_162.xml', 'crazing_163.xml', 'crazing_164.xml', 'crazing_165.xml', 'crazing_166.xml', 'crazing_167.xml', 'crazing_168.xml', 'crazing_169.xml', 'crazing_17.xml', 'crazing_170.xml', 'crazing_171.xml', 'crazing_172.xml', 'crazing_173.xml', 'crazing_174.xml', 'crazing_175.xml', 'crazing_176.xml', 'crazing_177.xml', 'crazing_178.xml', 'crazing_179.xml', 'crazing_18.xml', 'crazing_180.xml', 'crazing_181.xml', 'crazing_182.xml', 'crazing_183.xml', 'crazing_184.xml', 'crazing_185.xml', 'crazing_186.xml', 'crazing_187.xml', 'crazing_188.xml', 'crazing_189.xml', 'crazing_19.xml', 'crazing_190.xml', 'crazing_191.xml', 'crazing_192.xml', 'crazing_193.xml', 'crazing_194.xml', 'crazing_195.xml', 'crazing_196.xml', 'crazing_197.xml', 'crazing_198.xml', 'crazing_199.xml', 'crazing_2.xml', 'crazing_20.xml', 'crazing_200.xml', 'crazing_201.xml', 'crazing_202.xml', 'crazing_203.xml', 'crazing_204.xml', 'crazing_205.xml', 'crazing_206.xml', 'crazing_207.xml', 'crazing_208.xml', 'crazing_209.xml', 'crazing_21.xml', 'crazing_210.xml', 'crazing_211.xml', 'crazing_212.xml', 'crazing_213.xml', 'crazing_214.xml', 'crazing_215.xml', 'crazing_216.xml', 'crazing_217.xml', 'crazing_218.xml', 'crazing_219.xml', 'crazing_22.xml', 'crazing_220.xml', 'crazing_221.xml', 'crazing_222.xml', 'crazing_223.xml', 'crazing_224.xml', 'crazing_225.xml', 'crazing_226.xml', 'crazing_227.xml', 'crazing_228.xml', 'crazing_229.xml', 'crazing_23.xml', 'crazing_230.xml', 'crazing_231.xml', 'crazing_232.xml', 'crazing_233.xml', 'crazing_234.xml', 'crazing_235.xml', 'crazing_236.xml', 'crazing_237.xml', 'crazing_238.xml', 'crazing_239.xml', 'crazing_24.xml', 'crazing_25.xml', 'crazing_26.xml', 'crazing_27.xml', 'crazing_28.xml', 'crazing_29.xml', 'crazing_3.xml', 'crazing_30.xml', 'crazing_31.xml', 'crazing_32.xml', 'crazing_33.xml', 'crazing_34.xml', 'crazing_35.xml', 'crazing_36.xml', 'crazing_37.xml', 'crazing_38.xml', 'crazing_39.xml', 'crazing_4.xml', 'crazing_40.xml', 'crazing_41.xml', 'crazing_42.xml', 'crazing_43.xml', 'crazing_44.xml', 'crazing_45.xml', 'crazing_46.xml', 'crazing_47.xml', 'crazing_48.xml', 'crazing_49.xml', 'crazing_5.xml', 'crazing_50.xml', 'crazing_51.xml', 'crazing_52.xml', 'crazing_53.xml', 'crazing_54.xml', 'crazing_55.xml', 'crazing_56.xml', 'crazing_57.xml', 'crazing_58.xml', 'crazing_59.xml', 'crazing_6.xml', 'crazing_60.xml', 'crazing_61.xml', 'crazing_62.xml', 'crazing_63.xml', 'crazing_64.xml', 'crazing_65.xml', 'crazing_66.xml', 'crazing_67.xml', 'crazing_68.xml', 'crazing_69.xml', 'crazing_7.xml', 'crazing_70.xml', 'crazing_71.xml', 'crazing_72.xml', 'crazing_73.xml', 'crazing_74.xml', 'crazing_75.xml', 'crazing_76.xml', 'crazing_77.xml', 'crazing_78.xml', 'crazing_79.xml', 'crazing_8.xml', 'crazing_80.xml', 'crazing_81.xml', 'crazing_82.xml', 'crazing_83.xml', 'crazing_84.xml', 'crazing_85.xml', 'crazing_86.xml', 'crazing_87.xml', 'crazing_88.xml', 'crazing_89.xml', 'crazing_9.xml', 'crazing_90.xml', 'crazing_91.xml', 'crazing_92.xml', 'crazing_93.xml', 'crazing_94.xml', 'crazing_95.xml', 'crazing_96.xml', 'crazing_97.xml', 'crazing_98.xml', 'crazing_99.xml', 'inclusion_1.xml', 'inclusion_10.xml', 'inclusion_100.xml', 'inclusion_101.xml', 'inclusion_102.xml', 'inclusion_103.xml', 'inclusion_104.xml', 'inclusion_105.xml', 'inclusion_106.xml', 'inclusion_107.xml', 'inclusion_108.xml', 'inclusion_109.xml', 'inclusion_11.xml', 'inclusion_110.xml', 'inclusion_111.xml', 'inclusion_112.xml', 'inclusion_113.xml', 'inclusion_114.xml', 'inclusion_115.xml', 'inclusion_116.xml', 'inclusion_117.xml', 'inclusion_118.xml', 'inclusion_119.xml', 'inclusion_12.xml', 'inclusion_120.xml', 'inclusion_121.xml', 'inclusion_122.xml', 'inclusion_123.xml', 'inclusion_124.xml', 'inclusion_125.xml', 'inclusion_126.xml', 'inclusion_127.xml', 'inclusion_128.xml', 'inclusion_129.xml', 'inclusion_13.xml', 'inclusion_130.xml', 'inclusion_131.xml', 'inclusion_132.xml', 'inclusion_133.xml', 'inclusion_134.xml', 'inclusion_135.xml', 'inclusion_136.xml', 'inclusion_137.xml', 'inclusion_138.xml', 'inclusion_139.xml', 'inclusion_14.xml', 'inclusion_140.xml', 'inclusion_141.xml', 'inclusion_142.xml', 'inclusion_143.xml', 'inclusion_144.xml', 'inclusion_145.xml', 'inclusion_146.xml', 'inclusion_147.xml', 'inclusion_148.xml', 'inclusion_149.xml', 'inclusion_15.xml', 'inclusion_150.xml', 'inclusion_151.xml', 'inclusion_152.xml', 'inclusion_153.xml', 'inclusion_154.xml', 'inclusion_155.xml', 'inclusion_156.xml', 'inclusion_157.xml', 'inclusion_158.xml', 'inclusion_159.xml', 'inclusion_16.xml', 'inclusion_160.xml', 'inclusion_161.xml', 'inclusion_162.xml', 'inclusion_163.xml', 'inclusion_164.xml', 'inclusion_165.xml', 'inclusion_166.xml', 'inclusion_167.xml', 'inclusion_168.xml', 'inclusion_169.xml', 'inclusion_17.xml', 'inclusion_170.xml', 'inclusion_171.xml', 'inclusion_172.xml', 'inclusion_173.xml', 'inclusion_174.xml', 'inclusion_175.xml', 'inclusion_176.xml', 'inclusion_177.xml', 'inclusion_178.xml', 'inclusion_179.xml', 'inclusion_18.xml', 'inclusion_180.xml', 'inclusion_181.xml', 'inclusion_182.xml', 'inclusion_183.xml', 'inclusion_184.xml', 'inclusion_185.xml', 'inclusion_186.xml', 'inclusion_187.xml', 'inclusion_188.xml', 'inclusion_189.xml', 'inclusion_19.xml', 'inclusion_190.xml', 'inclusion_191.xml', 'inclusion_192.xml', 'inclusion_193.xml', 'inclusion_194.xml', 'inclusion_195.xml', 'inclusion_196.xml', 'inclusion_197.xml', 'inclusion_198.xml', 'inclusion_199.xml', 'inclusion_2.xml', 'inclusion_20.xml', 'inclusion_200.xml', 'inclusion_201.xml', 'inclusion_202.xml', 'inclusion_203.xml', 'inclusion_204.xml', 'inclusion_205.xml', 'inclusion_206.xml', 'inclusion_207.xml', 'inclusion_208.xml', 'inclusion_209.xml', 'inclusion_21.xml', 'inclusion_210.xml', 'inclusion_211.xml', 'inclusion_212.xml', 'inclusion_213.xml', 'inclusion_214.xml', 'inclusion_215.xml', 'inclusion_216.xml', 'inclusion_217.xml', 'inclusion_218.xml', 'inclusion_219.xml', 'inclusion_22.xml', 'inclusion_220.xml', 'inclusion_221.xml', 'inclusion_222.xml', 'inclusion_223.xml', 'inclusion_224.xml', 'inclusion_225.xml', 'inclusion_226.xml', 'inclusion_227.xml', 'inclusion_228.xml', 'inclusion_229.xml', 'inclusion_23.xml', 'inclusion_230.xml', 'inclusion_231.xml', 'inclusion_232.xml', 'inclusion_233.xml', 'inclusion_234.xml', 'inclusion_235.xml', 'inclusion_236.xml', 'inclusion_237.xml', 'inclusion_238.xml', 'inclusion_239.xml', 'inclusion_24.xml', 'inclusion_240.xml', 'inclusion_25.xml', 'inclusion_26.xml', 'inclusion_27.xml', 'inclusion_28.xml', 'inclusion_29.xml', 'inclusion_3.xml', 'inclusion_30.xml', 'inclusion_31.xml', 'inclusion_32.xml', 'inclusion_33.xml', 'inclusion_34.xml', 'inclusion_35.xml', 'inclusion_36.xml', 'inclusion_37.xml', 'inclusion_38.xml', 'inclusion_39.xml', 'inclusion_4.xml', 'inclusion_40.xml', 'inclusion_41.xml', 'inclusion_42.xml', 'inclusion_43.xml', 'inclusion_44.xml', 'inclusion_45.xml', 'inclusion_46.xml', 'inclusion_47.xml', 'inclusion_48.xml', 'inclusion_49.xml', 'inclusion_5.xml', 'inclusion_50.xml', 'inclusion_51.xml', 'inclusion_52.xml', 'inclusion_53.xml', 'inclusion_54.xml', 'inclusion_55.xml', 'inclusion_56.xml', 'inclusion_57.xml', 'inclusion_58.xml', 'inclusion_59.xml', 'inclusion_6.xml', 'inclusion_60.xml', 'inclusion_61.xml', 'inclusion_62.xml', 'inclusion_63.xml', 'inclusion_64.xml', 'inclusion_65.xml', 'inclusion_66.xml', 'inclusion_67.xml', 'inclusion_68.xml', 'inclusion_69.xml', 'inclusion_7.xml', 'inclusion_70.xml', 'inclusion_71.xml', 'inclusion_72.xml', 'inclusion_73.xml', 'inclusion_74.xml', 'inclusion_75.xml', 'inclusion_76.xml', 'inclusion_77.xml', 'inclusion_78.xml', 'inclusion_79.xml', 'inclusion_8.xml', 'inclusion_80.xml', 'inclusion_81.xml', 'inclusion_82.xml', 'inclusion_83.xml', 'inclusion_84.xml', 'inclusion_85.xml', 'inclusion_86.xml', 'inclusion_87.xml', 'inclusion_88.xml', 'inclusion_89.xml', 'inclusion_9.xml', 'inclusion_90.xml', 'inclusion_91.xml', 'inclusion_92.xml', 'inclusion_93.xml', 'inclusion_94.xml', 'inclusion_95.xml', 'inclusion_96.xml', 'inclusion_97.xml', 'inclusion_98.xml', 'inclusion_99.xml', 'patches_1.xml', 'patches_10.xml', 'patches_100.xml', 'patches_101.xml', 'patches_102.xml', 'patches_103.xml', 'patches_104.xml', 'patches_105.xml', 'patches_106.xml', 'patches_107.xml', 'patches_108.xml', 'patches_109.xml', 'patches_11.xml', 'patches_110.xml', 'patches_111.xml', 'patches_112.xml', 'patches_113.xml', 'patches_114.xml', 'patches_115.xml', 'patches_116.xml', 'patches_117.xml', 'patches_118.xml', 'patches_119.xml', 'patches_12.xml', 'patches_120.xml', 'patches_121.xml', 'patches_122.xml', 'patches_123.xml', 'patches_124.xml', 'patches_125.xml', 'patches_126.xml', 'patches_127.xml', 'patches_128.xml', 'patches_129.xml', 'patches_13.xml', 'patches_130.xml', 'patches_131.xml', 'patches_132.xml', 'patches_133.xml', 'patches_134.xml', 'patches_135.xml', 'patches_136.xml', 'patches_137.xml', 'patches_138.xml', 'patches_139.xml', 'patches_14.xml', 'patches_140.xml', 'patches_141.xml', 'patches_142.xml', 'patches_143.xml', 'patches_144.xml', 'patches_145.xml', 'patches_146.xml', 'patches_147.xml', 'patches_148.xml', 'patches_149.xml', 'patches_15.xml', 'patches_150.xml', 'patches_151.xml', 'patches_152.xml', 'patches_153.xml', 'patches_154.xml', 'patches_155.xml', 'patches_156.xml', 'patches_157.xml', 'patches_158.xml', 'patches_159.xml', 'patches_16.xml', 'patches_160.xml', 'patches_161.xml', 'patches_162.xml', 'patches_163.xml', 'patches_164.xml', 'patches_165.xml', 'patches_166.xml', 'patches_167.xml', 'patches_168.xml', 'patches_169.xml', 'patches_17.xml', 'patches_170.xml', 'patches_171.xml', 'patches_172.xml', 'patches_173.xml', 'patches_174.xml', 'patches_175.xml', 'patches_176.xml', 'patches_177.xml', 'patches_178.xml', 'patches_179.xml', 'patches_18.xml', 'patches_180.xml', 'patches_181.xml', 'patches_182.xml', 'patches_183.xml', 'patches_184.xml', 'patches_185.xml', 'patches_186.xml', 'patches_187.xml', 'patches_188.xml', 'patches_189.xml', 'patches_19.xml', 'patches_190.xml', 'patches_191.xml', 'patches_192.xml', 'patches_193.xml', 'patches_194.xml', 'patches_195.xml', 'patches_196.xml', 'patches_197.xml', 'patches_198.xml', 'patches_199.xml', 'patches_2.xml', 'patches_20.xml', 'patches_200.xml', 'patches_201.xml', 'patches_202.xml', 'patches_203.xml', 'patches_204.xml', 'patches_205.xml', 'patches_206.xml', 'patches_207.xml', 'patches_208.xml', 'patches_209.xml', 'patches_21.xml', 'patches_210.xml', 'patches_211.xml', 'patches_212.xml', 'patches_213.xml', 'patches_214.xml', 'patches_215.xml', 'patches_216.xml', 'patches_217.xml', 'patches_218.xml', 'patches_219.xml', 'patches_22.xml', 'patches_220.xml', 'patches_221.xml', 'patches_222.xml', 'patches_223.xml', 'patches_224.xml', 'patches_225.xml', 'patches_226.xml', 'patches_227.xml', 'patches_228.xml', 'patches_229.xml', 'patches_23.xml', 'patches_230.xml', 'patches_231.xml', 'patches_232.xml', 'patches_233.xml', 'patches_234.xml', 'patches_235.xml', 'patches_236.xml', 'patches_237.xml', 'patches_238.xml', 'patches_239.xml', 'patches_24.xml', 'patches_240.xml', 'patches_25.xml', 'patches_26.xml', 'patches_27.xml', 'patches_28.xml', 'patches_29.xml', 'patches_3.xml', 'patches_30.xml', 'patches_31.xml', 'patches_32.xml', 'patches_33.xml', 'patches_34.xml', 'patches_35.xml', 'patches_36.xml', 'patches_37.xml', 'patches_38.xml', 'patches_39.xml', 'patches_4.xml', 'patches_40.xml', 'patches_41.xml', 'patches_42.xml', 'patches_43.xml', 'patches_44.xml', 'patches_45.xml', 'patches_46.xml', 'patches_47.xml', 'patches_48.xml', 'patches_49.xml', 'patches_5.xml', 'patches_50.xml', 'patches_51.xml', 'patches_52.xml', 'patches_53.xml', 'patches_54.xml', 'patches_55.xml', 'patches_56.xml', 'patches_57.xml', 'patches_58.xml', 'patches_59.xml', 'patches_6.xml', 'patches_60.xml', 'patches_61.xml', 'patches_62.xml', 'patches_63.xml', 'patches_64.xml', 'patches_65.xml', 'patches_66.xml', 'patches_67.xml', 'patches_68.xml', 'patches_69.xml', 'patches_7.xml', 'patches_70.xml', 'patches_71.xml', 'patches_72.xml', 'patches_73.xml', 'patches_74.xml', 'patches_75.xml', 'patches_76.xml', 'patches_77.xml', 'patches_78.xml', 'patches_79.xml', 'patches_8.xml', 'patches_80.xml', 'patches_81.xml', 'patches_82.xml', 'patches_83.xml', 'patches_84.xml', 'patches_85.xml', 'patches_86.xml', 'patches_87.xml', 'patches_88.xml', 'patches_89.xml', 'patches_9.xml', 'patches_90.xml', 'patches_91.xml', 'patches_92.xml', 'patches_93.xml', 'patches_94.xml', 'patches_95.xml', 'patches_96.xml', 'patches_97.xml', 'patches_98.xml', 'patches_99.xml', 'pitted_surface_1.xml', 'pitted_surface_10.xml', 'pitted_surface_100.xml', 'pitted_surface_101.xml', 'pitted_surface_102.xml', 'pitted_surface_103.xml', 'pitted_surface_104.xml', 'pitted_surface_105.xml', 'pitted_surface_106.xml', 'pitted_surface_107.xml', 'pitted_surface_108.xml', 'pitted_surface_109.xml', 'pitted_surface_11.xml', 'pitted_surface_110.xml', 'pitted_surface_111.xml', 'pitted_surface_112.xml', 'pitted_surface_113.xml', 'pitted_surface_114.xml', 'pitted_surface_115.xml', 'pitted_surface_116.xml', 'pitted_surface_117.xml', 'pitted_surface_118.xml', 'pitted_surface_119.xml', 'pitted_surface_12.xml', 'pitted_surface_120.xml', 'pitted_surface_121.xml', 'pitted_surface_122.xml', 'pitted_surface_123.xml', 'pitted_surface_124.xml', 'pitted_surface_125.xml', 'pitted_surface_126.xml', 'pitted_surface_127.xml', 'pitted_surface_128.xml', 'pitted_surface_129.xml', 'pitted_surface_13.xml', 'pitted_surface_130.xml', 'pitted_surface_131.xml', 'pitted_surface_132.xml', 'pitted_surface_133.xml', 'pitted_surface_134.xml', 'pitted_surface_135.xml', 'pitted_surface_136.xml', 'pitted_surface_137.xml', 'pitted_surface_138.xml', 'pitted_surface_139.xml', 'pitted_surface_14.xml', 'pitted_surface_140.xml', 'pitted_surface_141.xml', 'pitted_surface_142.xml', 'pitted_surface_143.xml', 'pitted_surface_144.xml', 'pitted_surface_145.xml', 'pitted_surface_146.xml', 'pitted_surface_147.xml', 'pitted_surface_148.xml', 'pitted_surface_149.xml', 'pitted_surface_15.xml', 'pitted_surface_150.xml', 'pitted_surface_151.xml', 'pitted_surface_152.xml', 'pitted_surface_153.xml', 'pitted_surface_154.xml', 'pitted_surface_155.xml', 'pitted_surface_156.xml', 'pitted_surface_157.xml', 'pitted_surface_158.xml', 'pitted_surface_159.xml', 'pitted_surface_16.xml', 'pitted_surface_160.xml', 'pitted_surface_161.xml', 'pitted_surface_162.xml', 'pitted_surface_163.xml', 'pitted_surface_164.xml', 'pitted_surface_165.xml', 'pitted_surface_166.xml', 'pitted_surface_167.xml', 'pitted_surface_168.xml', 'pitted_surface_169.xml', 'pitted_surface_17.xml', 'pitted_surface_170.xml', 'pitted_surface_171.xml', 'pitted_surface_172.xml', 'pitted_surface_173.xml', 'pitted_surface_174.xml', 'pitted_surface_175.xml', 'pitted_surface_176.xml', 'pitted_surface_177.xml', 'pitted_surface_178.xml', 'pitted_surface_179.xml', 'pitted_surface_18.xml', 'pitted_surface_180.xml', 'pitted_surface_181.xml', 'pitted_surface_182.xml', 'pitted_surface_183.xml', 'pitted_surface_184.xml', 'pitted_surface_185.xml', 'pitted_surface_186.xml', 'pitted_surface_187.xml', 'pitted_surface_188.xml', 'pitted_surface_189.xml', 'pitted_surface_19.xml', 'pitted_surface_190.xml', 'pitted_surface_191.xml', 'pitted_surface_192.xml', 'pitted_surface_193.xml', 'pitted_surface_194.xml', 'pitted_surface_195.xml', 'pitted_surface_196.xml', 'pitted_surface_197.xml', 'pitted_surface_198.xml', 'pitted_surface_199.xml', 'pitted_surface_2.xml', 'pitted_surface_20.xml', 'pitted_surface_200.xml', 'pitted_surface_201.xml', 'pitted_surface_202.xml', 'pitted_surface_203.xml', 'pitted_surface_204.xml', 'pitted_surface_205.xml', 'pitted_surface_206.xml', 'pitted_surface_207.xml', 'pitted_surface_208.xml', 'pitted_surface_209.xml', 'pitted_surface_21.xml', 'pitted_surface_210.xml', 'pitted_surface_211.xml', 'pitted_surface_212.xml', 'pitted_surface_213.xml', 'pitted_surface_214.xml', 'pitted_surface_215.xml', 'pitted_surface_216.xml', 'pitted_surface_217.xml', 'pitted_surface_218.xml', 'pitted_surface_219.xml', 'pitted_surface_22.xml', 'pitted_surface_220.xml', 'pitted_surface_221.xml', 'pitted_surface_222.xml', 'pitted_surface_223.xml', 'pitted_surface_224.xml', 'pitted_surface_225.xml', 'pitted_surface_226.xml', 'pitted_surface_227.xml', 'pitted_surface_228.xml', 'pitted_surface_229.xml', 'pitted_surface_23.xml', 'pitted_surface_230.xml', 'pitted_surface_231.xml', 'pitted_surface_232.xml', 'pitted_surface_233.xml', 'pitted_surface_234.xml', 'pitted_surface_235.xml', 'pitted_surface_236.xml', 'pitted_surface_237.xml', 'pitted_surface_238.xml', 'pitted_surface_239.xml', 'pitted_surface_24.xml', 'pitted_surface_240.xml', 'pitted_surface_25.xml', 'pitted_surface_26.xml', 'pitted_surface_27.xml', 'pitted_surface_28.xml', 'pitted_surface_29.xml', 'pitted_surface_3.xml', 'pitted_surface_30.xml', 'pitted_surface_31.xml', 'pitted_surface_32.xml', 'pitted_surface_33.xml', 'pitted_surface_34.xml', 'pitted_surface_35.xml', 'pitted_surface_36.xml', 'pitted_surface_37.xml', 'pitted_surface_38.xml', 'pitted_surface_39.xml', 'pitted_surface_4.xml', 'pitted_surface_40.xml', 'pitted_surface_41.xml', 'pitted_surface_42.xml', 'pitted_surface_43.xml', 'pitted_surface_44.xml', 'pitted_surface_45.xml', 'pitted_surface_46.xml', 'pitted_surface_47.xml', 'pitted_surface_48.xml', 'pitted_surface_49.xml', 'pitted_surface_5.xml', 'pitted_surface_50.xml', 'pitted_surface_51.xml', 'pitted_surface_52.xml', 'pitted_surface_53.xml', 'pitted_surface_54.xml', 'pitted_surface_55.xml', 'pitted_surface_56.xml', 'pitted_surface_57.xml', 'pitted_surface_58.xml', 'pitted_surface_59.xml', 'pitted_surface_6.xml', 'pitted_surface_60.xml', 'pitted_surface_61.xml', 'pitted_surface_62.xml', 'pitted_surface_63.xml', 'pitted_surface_64.xml', 'pitted_surface_65.xml', 'pitted_surface_66.xml', 'pitted_surface_67.xml', 'pitted_surface_68.xml', 'pitted_surface_69.xml', 'pitted_surface_7.xml', 'pitted_surface_70.xml', 'pitted_surface_71.xml', 'pitted_surface_72.xml', 'pitted_surface_73.xml', 'pitted_surface_74.xml', 'pitted_surface_75.xml', 'pitted_surface_76.xml', 'pitted_surface_77.xml', 'pitted_surface_78.xml', 'pitted_surface_79.xml', 'pitted_surface_8.xml', 'pitted_surface_80.xml', 'pitted_surface_81.xml', 'pitted_surface_82.xml', 'pitted_surface_83.xml', 'pitted_surface_84.xml', 'pitted_surface_85.xml', 'pitted_surface_86.xml', 'pitted_surface_87.xml', 'pitted_surface_88.xml', 'pitted_surface_89.xml', 'pitted_surface_9.xml', 'pitted_surface_90.xml', 'pitted_surface_91.xml', 'pitted_surface_92.xml', 'pitted_surface_93.xml', 'pitted_surface_94.xml', 'pitted_surface_95.xml', 'pitted_surface_96.xml', 'pitted_surface_97.xml', 'pitted_surface_98.xml', 'pitted_surface_99.xml', 'rolled-in_scale_1.xml', 'rolled-in_scale_10.xml', 'rolled-in_scale_100.xml', 'rolled-in_scale_101.xml', 'rolled-in_scale_102.xml', 'rolled-in_scale_103.xml', 'rolled-in_scale_104.xml', 'rolled-in_scale_105.xml', 'rolled-in_scale_106.xml', 'rolled-in_scale_107.xml', 'rolled-in_scale_108.xml', 'rolled-in_scale_109.xml', 'rolled-in_scale_11.xml', 'rolled-in_scale_110.xml', 'rolled-in_scale_111.xml', 'rolled-in_scale_112.xml', 'rolled-in_scale_113.xml', 'rolled-in_scale_114.xml', 'rolled-in_scale_115.xml', 'rolled-in_scale_116.xml', 'rolled-in_scale_117.xml', 'rolled-in_scale_118.xml', 'rolled-in_scale_119.xml', 'rolled-in_scale_12.xml', 'rolled-in_scale_120.xml', 'rolled-in_scale_121.xml', 'rolled-in_scale_122.xml', 'rolled-in_scale_123.xml', 'rolled-in_scale_124.xml', 'rolled-in_scale_125.xml', 'rolled-in_scale_126.xml', 'rolled-in_scale_127.xml', 'rolled-in_scale_128.xml', 'rolled-in_scale_129.xml', 'rolled-in_scale_13.xml', 'rolled-in_scale_130.xml', 'rolled-in_scale_131.xml', 'rolled-in_scale_132.xml', 'rolled-in_scale_133.xml', 'rolled-in_scale_134.xml', 'rolled-in_scale_135.xml', 'rolled-in_scale_136.xml', 'rolled-in_scale_137.xml', 'rolled-in_scale_138.xml', 'rolled-in_scale_139.xml', 'rolled-in_scale_14.xml', 'rolled-in_scale_140.xml', 'rolled-in_scale_141.xml', 'rolled-in_scale_142.xml', 'rolled-in_scale_143.xml', 'rolled-in_scale_144.xml', 'rolled-in_scale_145.xml', 'rolled-in_scale_146.xml', 'rolled-in_scale_147.xml', 'rolled-in_scale_148.xml', 'rolled-in_scale_149.xml', 'rolled-in_scale_15.xml', 'rolled-in_scale_150.xml', 'rolled-in_scale_151.xml', 'rolled-in_scale_152.xml', 'rolled-in_scale_153.xml', 'rolled-in_scale_154.xml', 'rolled-in_scale_155.xml', 'rolled-in_scale_156.xml', 'rolled-in_scale_157.xml', 'rolled-in_scale_158.xml', 'rolled-in_scale_159.xml', 'rolled-in_scale_16.xml', 'rolled-in_scale_160.xml', 'rolled-in_scale_161.xml', 'rolled-in_scale_162.xml', 'rolled-in_scale_163.xml', 'rolled-in_scale_164.xml', 'rolled-in_scale_165.xml', 'rolled-in_scale_166.xml', 'rolled-in_scale_167.xml', 'rolled-in_scale_168.xml', 'rolled-in_scale_169.xml', 'rolled-in_scale_17.xml', 'rolled-in_scale_170.xml', 'rolled-in_scale_171.xml', 'rolled-in_scale_172.xml', 'rolled-in_scale_173.xml', 'rolled-in_scale_174.xml', 'rolled-in_scale_175.xml', 'rolled-in_scale_176.xml', 'rolled-in_scale_177.xml', 'rolled-in_scale_178.xml', 'rolled-in_scale_179.xml', 'rolled-in_scale_18.xml', 'rolled-in_scale_180.xml', 'rolled-in_scale_181.xml', 'rolled-in_scale_182.xml', 'rolled-in_scale_183.xml', 'rolled-in_scale_184.xml', 'rolled-in_scale_185.xml', 'rolled-in_scale_186.xml', 'rolled-in_scale_187.xml', 'rolled-in_scale_188.xml', 'rolled-in_scale_189.xml', 'rolled-in_scale_19.xml', 'rolled-in_scale_190.xml', 'rolled-in_scale_191.xml', 'rolled-in_scale_192.xml', 'rolled-in_scale_193.xml', 'rolled-in_scale_194.xml', 'rolled-in_scale_195.xml', 'rolled-in_scale_196.xml', 'rolled-in_scale_197.xml', 'rolled-in_scale_198.xml', 'rolled-in_scale_199.xml', 'rolled-in_scale_2.xml', 'rolled-in_scale_20.xml', 'rolled-in_scale_200.xml', 'rolled-in_scale_201.xml', 'rolled-in_scale_202.xml', 'rolled-in_scale_203.xml', 'rolled-in_scale_204.xml', 'rolled-in_scale_205.xml', 'rolled-in_scale_206.xml', 'rolled-in_scale_207.xml', 'rolled-in_scale_208.xml', 'rolled-in_scale_209.xml', 'rolled-in_scale_21.xml', 'rolled-in_scale_210.xml', 'rolled-in_scale_211.xml', 'rolled-in_scale_212.xml', 'rolled-in_scale_213.xml', 'rolled-in_scale_214.xml', 'rolled-in_scale_215.xml', 'rolled-in_scale_216.xml', 'rolled-in_scale_217.xml', 'rolled-in_scale_218.xml', 'rolled-in_scale_219.xml', 'rolled-in_scale_22.xml', 'rolled-in_scale_220.xml', 'rolled-in_scale_221.xml', 'rolled-in_scale_222.xml', 'rolled-in_scale_223.xml', 'rolled-in_scale_224.xml', 'rolled-in_scale_225.xml', 'rolled-in_scale_226.xml', 'rolled-in_scale_227.xml', 'rolled-in_scale_228.xml', 'rolled-in_scale_229.xml', 'rolled-in_scale_23.xml', 'rolled-in_scale_230.xml', 'rolled-in_scale_231.xml', 'rolled-in_scale_232.xml', 'rolled-in_scale_233.xml', 'rolled-in_scale_234.xml', 'rolled-in_scale_235.xml', 'rolled-in_scale_236.xml', 'rolled-in_scale_237.xml', 'rolled-in_scale_238.xml', 'rolled-in_scale_239.xml', 'rolled-in_scale_24.xml', 'rolled-in_scale_240.xml', 'rolled-in_scale_25.xml', 'rolled-in_scale_26.xml', 'rolled-in_scale_27.xml', 'rolled-in_scale_28.xml', 'rolled-in_scale_29.xml', 'rolled-in_scale_3.xml', 'rolled-in_scale_30.xml', 'rolled-in_scale_31.xml', 'rolled-in_scale_32.xml', 'rolled-in_scale_33.xml', 'rolled-in_scale_34.xml', 'rolled-in_scale_35.xml', 'rolled-in_scale_36.xml', 'rolled-in_scale_37.xml', 'rolled-in_scale_38.xml', 'rolled-in_scale_39.xml', 'rolled-in_scale_4.xml', 'rolled-in_scale_40.xml', 'rolled-in_scale_41.xml', 'rolled-in_scale_42.xml', 'rolled-in_scale_43.xml', 'rolled-in_scale_44.xml', 'rolled-in_scale_45.xml', 'rolled-in_scale_46.xml', 'rolled-in_scale_47.xml', 'rolled-in_scale_48.xml', 'rolled-in_scale_49.xml', 'rolled-in_scale_5.xml', 'rolled-in_scale_50.xml', 'rolled-in_scale_51.xml', 'rolled-in_scale_52.xml', 'rolled-in_scale_53.xml', 'rolled-in_scale_54.xml', 'rolled-in_scale_55.xml', 'rolled-in_scale_56.xml', 'rolled-in_scale_57.xml', 'rolled-in_scale_58.xml', 'rolled-in_scale_59.xml', 'rolled-in_scale_6.xml', 'rolled-in_scale_60.xml', 'rolled-in_scale_61.xml', 'rolled-in_scale_62.xml', 'rolled-in_scale_63.xml', 'rolled-in_scale_64.xml', 'rolled-in_scale_65.xml', 'rolled-in_scale_66.xml', 'rolled-in_scale_67.xml', 'rolled-in_scale_68.xml', 'rolled-in_scale_69.xml', 'rolled-in_scale_7.xml', 'rolled-in_scale_70.xml', 'rolled-in_scale_71.xml', 'rolled-in_scale_72.xml', 'rolled-in_scale_73.xml', 'rolled-in_scale_74.xml', 'rolled-in_scale_75.xml', 'rolled-in_scale_76.xml', 'rolled-in_scale_77.xml', 'rolled-in_scale_78.xml', 'rolled-in_scale_79.xml', 'rolled-in_scale_8.xml', 'rolled-in_scale_80.xml', 'rolled-in_scale_81.xml', 'rolled-in_scale_82.xml', 'rolled-in_scale_83.xml', 'rolled-in_scale_84.xml', 'rolled-in_scale_85.xml', 'rolled-in_scale_86.xml', 'rolled-in_scale_87.xml', 'rolled-in_scale_88.xml', 'rolled-in_scale_89.xml', 'rolled-in_scale_9.xml', 'rolled-in_scale_90.xml', 'rolled-in_scale_91.xml', 'rolled-in_scale_92.xml', 'rolled-in_scale_93.xml', 'rolled-in_scale_94.xml', 'rolled-in_scale_95.xml', 'rolled-in_scale_96.xml', 'rolled-in_scale_97.xml', 'rolled-in_scale_98.xml', 'rolled-in_scale_99.xml', 'scratches_1.xml', 'scratches_10.xml', 'scratches_100.xml', 'scratches_101.xml', 'scratches_102.xml', 'scratches_103.xml', 'scratches_104.xml', 'scratches_105.xml', 'scratches_106.xml', 'scratches_107.xml', 'scratches_108.xml', 'scratches_109.xml', 'scratches_11.xml', 'scratches_110.xml', 'scratches_111.xml', 'scratches_112.xml', 'scratches_113.xml', 'scratches_114.xml', 'scratches_115.xml', 'scratches_116.xml', 'scratches_117.xml', 'scratches_118.xml', 'scratches_119.xml', 'scratches_12.xml', 'scratches_120.xml', 'scratches_121.xml', 'scratches_122.xml', 'scratches_123.xml', 'scratches_124.xml', 'scratches_125.xml', 'scratches_126.xml', 'scratches_127.xml', 'scratches_128.xml', 'scratches_129.xml', 'scratches_13.xml', 'scratches_130.xml', 'scratches_131.xml', 'scratches_132.xml', 'scratches_133.xml', 'scratches_134.xml', 'scratches_135.xml', 'scratches_136.xml', 'scratches_137.xml', 'scratches_138.xml', 'scratches_139.xml', 'scratches_14.xml', 'scratches_140.xml', 'scratches_141.xml', 'scratches_142.xml', 'scratches_143.xml', 'scratches_144.xml', 'scratches_145.xml', 'scratches_146.xml', 'scratches_147.xml', 'scratches_148.xml', 'scratches_149.xml', 'scratches_15.xml', 'scratches_150.xml', 'scratches_151.xml', 'scratches_152.xml', 'scratches_153.xml', 'scratches_154.xml', 'scratches_155.xml', 'scratches_156.xml', 'scratches_157.xml', 'scratches_158.xml', 'scratches_159.xml', 'scratches_16.xml', 'scratches_160.xml', 'scratches_161.xml', 'scratches_162.xml', 'scratches_163.xml', 'scratches_164.xml', 'scratches_165.xml', 'scratches_166.xml', 'scratches_167.xml', 'scratches_168.xml', 'scratches_169.xml', 'scratches_17.xml', 'scratches_170.xml', 'scratches_171.xml', 'scratches_172.xml', 'scratches_173.xml', 'scratches_174.xml', 'scratches_175.xml', 'scratches_176.xml', 'scratches_177.xml', 'scratches_178.xml', 'scratches_179.xml', 'scratches_18.xml', 'scratches_180.xml', 'scratches_181.xml', 'scratches_182.xml', 'scratches_183.xml', 'scratches_184.xml', 'scratches_185.xml', 'scratches_186.xml', 'scratches_187.xml', 'scratches_188.xml', 'scratches_189.xml', 'scratches_19.xml', 'scratches_190.xml', 'scratches_191.xml', 'scratches_192.xml', 'scratches_193.xml', 'scratches_194.xml', 'scratches_195.xml', 'scratches_196.xml', 'scratches_197.xml', 'scratches_198.xml', 'scratches_199.xml', 'scratches_2.xml', 'scratches_20.xml', 'scratches_200.xml', 'scratches_201.xml', 'scratches_202.xml', 'scratches_203.xml', 'scratches_204.xml', 'scratches_205.xml', 'scratches_206.xml', 'scratches_207.xml', 'scratches_208.xml', 'scratches_209.xml', 'scratches_21.xml', 'scratches_210.xml', 'scratches_211.xml', 'scratches_212.xml', 'scratches_213.xml', 'scratches_214.xml', 'scratches_215.xml', 'scratches_216.xml', 'scratches_217.xml', 'scratches_218.xml', 'scratches_219.xml', 'scratches_22.xml', 'scratches_220.xml', 'scratches_221.xml', 'scratches_222.xml', 'scratches_223.xml', 'scratches_224.xml', 'scratches_225.xml', 'scratches_226.xml', 'scratches_227.xml', 'scratches_228.xml', 'scratches_229.xml', 'scratches_23.xml', 'scratches_230.xml', 'scratches_231.xml', 'scratches_232.xml', 'scratches_233.xml', 'scratches_234.xml', 'scratches_235.xml', 'scratches_236.xml', 'scratches_237.xml', 'scratches_238.xml', 'scratches_239.xml', 'scratches_24.xml', 'scratches_240.xml', 'scratches_25.xml', 'scratches_26.xml', 'scratches_27.xml', 'scratches_28.xml', 'scratches_29.xml', 'scratches_3.xml', 'scratches_30.xml', 'scratches_31.xml', 'scratches_32.xml', 'scratches_33.xml', 'scratches_34.xml', 'scratches_35.xml', 'scratches_36.xml', 'scratches_37.xml', 'scratches_38.xml', 'scratches_39.xml', 'scratches_4.xml', 'scratches_40.xml', 'scratches_41.xml', 'scratches_42.xml', 'scratches_43.xml', 'scratches_44.xml', 'scratches_45.xml', 'scratches_46.xml', 'scratches_47.xml', 'scratches_48.xml', 'scratches_49.xml', 'scratches_5.xml', 'scratches_50.xml', 'scratches_51.xml', 'scratches_52.xml', 'scratches_53.xml', 'scratches_54.xml', 'scratches_55.xml', 'scratches_56.xml', 'scratches_57.xml', 'scratches_58.xml', 'scratches_59.xml', 'scratches_6.xml', 'scratches_60.xml', 'scratches_61.xml', 'scratches_62.xml', 'scratches_63.xml', 'scratches_64.xml', 'scratches_65.xml', 'scratches_66.xml', 'scratches_67.xml', 'scratches_68.xml', 'scratches_69.xml', 'scratches_7.xml', 'scratches_70.xml', 'scratches_71.xml', 'scratches_72.xml', 'scratches_73.xml', 'scratches_74.xml', 'scratches_75.xml', 'scratches_76.xml', 'scratches_77.xml', 'scratches_78.xml', 'scratches_79.xml', 'scratches_8.xml', 'scratches_80.xml', 'scratches_81.xml', 'scratches_82.xml', 'scratches_83.xml', 'scratches_84.xml', 'scratches_85.xml', 'scratches_86.xml', 'scratches_87.xml', 'scratches_88.xml', 'scratches_89.xml', 'scratches_9.xml', 'scratches_90.xml', 'scratches_91.xml', 'scratches_92.xml', 'scratches_93.xml', 'scratches_94.xml', 'scratches_95.xml', 'scratches_96.xml', 'scratches_97.xml', 'scratches_98.xml', 'scratches_99.xml']\n",
      "F:\\Coding\\cv_challenge\\NEU-DET\\validation\\annotations\n",
      "['crazing_240.xml', 'crazing_241.xml', 'crazing_242.xml', 'crazing_243.xml', 'crazing_244.xml', 'crazing_245.xml', 'crazing_246.xml', 'crazing_247.xml', 'crazing_248.xml', 'crazing_249.xml', 'crazing_250.xml', 'crazing_251.xml', 'crazing_252.xml', 'crazing_253.xml', 'crazing_254.xml', 'crazing_255.xml', 'crazing_256.xml', 'crazing_257.xml', 'crazing_258.xml', 'crazing_259.xml', 'crazing_260.xml', 'crazing_261.xml', 'crazing_262.xml', 'crazing_263.xml', 'crazing_264.xml', 'crazing_265.xml', 'crazing_266.xml', 'crazing_267.xml', 'crazing_268.xml', 'crazing_269.xml', 'crazing_270.xml', 'crazing_271.xml', 'crazing_272.xml', 'crazing_273.xml', 'crazing_274.xml', 'crazing_275.xml', 'crazing_276.xml', 'crazing_277.xml', 'crazing_278.xml', 'crazing_279.xml', 'crazing_280.xml', 'crazing_281.xml', 'crazing_282.xml', 'crazing_283.xml', 'crazing_284.xml', 'crazing_285.xml', 'crazing_286.xml', 'crazing_287.xml', 'crazing_288.xml', 'crazing_289.xml', 'crazing_290.xml', 'crazing_291.xml', 'crazing_292.xml', 'crazing_293.xml', 'crazing_294.xml', 'crazing_295.xml', 'crazing_296.xml', 'crazing_297.xml', 'crazing_298.xml', 'crazing_299.xml', 'crazing_300.xml', 'inclusion_241.xml', 'inclusion_242.xml', 'inclusion_243.xml', 'inclusion_244.xml', 'inclusion_245.xml', 'inclusion_246.xml', 'inclusion_247.xml', 'inclusion_248.xml', 'inclusion_249.xml', 'inclusion_250.xml', 'inclusion_251.xml', 'inclusion_252.xml', 'inclusion_253.xml', 'inclusion_254.xml', 'inclusion_255.xml', 'inclusion_256.xml', 'inclusion_257.xml', 'inclusion_258.xml', 'inclusion_259.xml', 'inclusion_260.xml', 'inclusion_261.xml', 'inclusion_262.xml', 'inclusion_263.xml', 'inclusion_264.xml', 'inclusion_265.xml', 'inclusion_266.xml', 'inclusion_267.xml', 'inclusion_268.xml', 'inclusion_269.xml', 'inclusion_270.xml', 'inclusion_271.xml', 'inclusion_272.xml', 'inclusion_273.xml', 'inclusion_274.xml', 'inclusion_275.xml', 'inclusion_276.xml', 'inclusion_277.xml', 'inclusion_278.xml', 'inclusion_279.xml', 'inclusion_280.xml', 'inclusion_281.xml', 'inclusion_282.xml', 'inclusion_283.xml', 'inclusion_284.xml', 'inclusion_285.xml', 'inclusion_286.xml', 'inclusion_287.xml', 'inclusion_288.xml', 'inclusion_289.xml', 'inclusion_290.xml', 'inclusion_291.xml', 'inclusion_292.xml', 'inclusion_293.xml', 'inclusion_294.xml', 'inclusion_295.xml', 'inclusion_296.xml', 'inclusion_297.xml', 'inclusion_298.xml', 'inclusion_299.xml', 'inclusion_300.xml', 'patches_241.xml', 'patches_242.xml', 'patches_243.xml', 'patches_244.xml', 'patches_245.xml', 'patches_246.xml', 'patches_247.xml', 'patches_248.xml', 'patches_249.xml', 'patches_250.xml', 'patches_251.xml', 'patches_252.xml', 'patches_253.xml', 'patches_254.xml', 'patches_255.xml', 'patches_256.xml', 'patches_257.xml', 'patches_258.xml', 'patches_259.xml', 'patches_260.xml', 'patches_261.xml', 'patches_262.xml', 'patches_263.xml', 'patches_264.xml', 'patches_265.xml', 'patches_266.xml', 'patches_267.xml', 'patches_268.xml', 'patches_269.xml', 'patches_270.xml', 'patches_271.xml', 'patches_272.xml', 'patches_273.xml', 'patches_274.xml', 'patches_275.xml', 'patches_276.xml', 'patches_277.xml', 'patches_278.xml', 'patches_279.xml', 'patches_280.xml', 'patches_281.xml', 'patches_282.xml', 'patches_283.xml', 'patches_284.xml', 'patches_285.xml', 'patches_286.xml', 'patches_287.xml', 'patches_288.xml', 'patches_289.xml', 'patches_290.xml', 'patches_291.xml', 'patches_292.xml', 'patches_293.xml', 'patches_294.xml', 'patches_295.xml', 'patches_296.xml', 'patches_297.xml', 'patches_298.xml', 'patches_299.xml', 'patches_300.xml', 'pitted_surface_241.xml', 'pitted_surface_242.xml', 'pitted_surface_243.xml', 'pitted_surface_244.xml', 'pitted_surface_245.xml', 'pitted_surface_246.xml', 'pitted_surface_247.xml', 'pitted_surface_248.xml', 'pitted_surface_249.xml', 'pitted_surface_250.xml', 'pitted_surface_251.xml', 'pitted_surface_252.xml', 'pitted_surface_253.xml', 'pitted_surface_254.xml', 'pitted_surface_255.xml', 'pitted_surface_256.xml', 'pitted_surface_257.xml', 'pitted_surface_258.xml', 'pitted_surface_259.xml', 'pitted_surface_260.xml', 'pitted_surface_261.xml', 'pitted_surface_262.xml', 'pitted_surface_263.xml', 'pitted_surface_264.xml', 'pitted_surface_265.xml', 'pitted_surface_266.xml', 'pitted_surface_267.xml', 'pitted_surface_268.xml', 'pitted_surface_269.xml', 'pitted_surface_270.xml', 'pitted_surface_271.xml', 'pitted_surface_272.xml', 'pitted_surface_273.xml', 'pitted_surface_274.xml', 'pitted_surface_275.xml', 'pitted_surface_276.xml', 'pitted_surface_277.xml', 'pitted_surface_278.xml', 'pitted_surface_279.xml', 'pitted_surface_280.xml', 'pitted_surface_281.xml', 'pitted_surface_282.xml', 'pitted_surface_283.xml', 'pitted_surface_284.xml', 'pitted_surface_285.xml', 'pitted_surface_286.xml', 'pitted_surface_287.xml', 'pitted_surface_288.xml', 'pitted_surface_289.xml', 'pitted_surface_290.xml', 'pitted_surface_291.xml', 'pitted_surface_292.xml', 'pitted_surface_293.xml', 'pitted_surface_294.xml', 'pitted_surface_295.xml', 'pitted_surface_296.xml', 'pitted_surface_297.xml', 'pitted_surface_298.xml', 'pitted_surface_299.xml', 'pitted_surface_300.xml', 'rolled-in_scale_241.xml', 'rolled-in_scale_242.xml', 'rolled-in_scale_243.xml', 'rolled-in_scale_244.xml', 'rolled-in_scale_245.xml', 'rolled-in_scale_246.xml', 'rolled-in_scale_247.xml', 'rolled-in_scale_248.xml', 'rolled-in_scale_249.xml', 'rolled-in_scale_250.xml', 'rolled-in_scale_251.xml', 'rolled-in_scale_252.xml', 'rolled-in_scale_253.xml', 'rolled-in_scale_254.xml', 'rolled-in_scale_255.xml', 'rolled-in_scale_256.xml', 'rolled-in_scale_257.xml', 'rolled-in_scale_258.xml', 'rolled-in_scale_259.xml', 'rolled-in_scale_260.xml', 'rolled-in_scale_261.xml', 'rolled-in_scale_262.xml', 'rolled-in_scale_263.xml', 'rolled-in_scale_264.xml', 'rolled-in_scale_265.xml', 'rolled-in_scale_266.xml', 'rolled-in_scale_267.xml', 'rolled-in_scale_268.xml', 'rolled-in_scale_269.xml', 'rolled-in_scale_270.xml', 'rolled-in_scale_271.xml', 'rolled-in_scale_272.xml', 'rolled-in_scale_273.xml', 'rolled-in_scale_274.xml', 'rolled-in_scale_275.xml', 'rolled-in_scale_276.xml', 'rolled-in_scale_277.xml', 'rolled-in_scale_278.xml', 'rolled-in_scale_279.xml', 'rolled-in_scale_280.xml', 'rolled-in_scale_281.xml', 'rolled-in_scale_282.xml', 'rolled-in_scale_283.xml', 'rolled-in_scale_284.xml', 'rolled-in_scale_285.xml', 'rolled-in_scale_286.xml', 'rolled-in_scale_287.xml', 'rolled-in_scale_288.xml', 'rolled-in_scale_289.xml', 'rolled-in_scale_290.xml', 'rolled-in_scale_291.xml', 'rolled-in_scale_292.xml', 'rolled-in_scale_293.xml', 'rolled-in_scale_294.xml', 'rolled-in_scale_295.xml', 'rolled-in_scale_296.xml', 'rolled-in_scale_297.xml', 'rolled-in_scale_298.xml', 'rolled-in_scale_299.xml', 'rolled-in_scale_300.xml', 'scratches_241.xml', 'scratches_242.xml', 'scratches_243.xml', 'scratches_244.xml', 'scratches_245.xml', 'scratches_246.xml', 'scratches_247.xml', 'scratches_248.xml', 'scratches_249.xml', 'scratches_250.xml', 'scratches_251.xml', 'scratches_252.xml', 'scratches_253.xml', 'scratches_254.xml', 'scratches_255.xml', 'scratches_256.xml', 'scratches_257.xml', 'scratches_258.xml', 'scratches_259.xml', 'scratches_260.xml', 'scratches_261.xml', 'scratches_262.xml', 'scratches_263.xml', 'scratches_264.xml', 'scratches_265.xml', 'scratches_266.xml', 'scratches_267.xml', 'scratches_268.xml', 'scratches_269.xml', 'scratches_270.xml', 'scratches_271.xml', 'scratches_272.xml', 'scratches_273.xml', 'scratches_274.xml', 'scratches_275.xml', 'scratches_276.xml', 'scratches_277.xml', 'scratches_278.xml', 'scratches_279.xml', 'scratches_280.xml', 'scratches_281.xml', 'scratches_282.xml', 'scratches_283.xml', 'scratches_284.xml', 'scratches_285.xml', 'scratches_286.xml', 'scratches_287.xml', 'scratches_288.xml', 'scratches_289.xml', 'scratches_290.xml', 'scratches_291.xml', 'scratches_292.xml', 'scratches_293.xml', 'scratches_294.xml', 'scratches_295.xml', 'scratches_296.xml', 'scratches_297.xml', 'scratches_298.xml', 'scratches_299.xml', 'scratches_300.xml']\n"
     ]
    }
   ],
   "source": [
    "data_folder = ('F:\\\\Coding\\\\cv_challenge\\\\NEU-DET')\n",
    "train_folder_path = os.path.join(data_folder, \"train\", )\n",
    "valid_folder_path = os.path.join(data_folder, \"validation\", )\n",
    "\n",
    "def create_img_list(folder_path):\n",
    "    image_list = []\n",
    "    for root, dirs, files in os.walk(folder_path):\n",
    "        for file in files:\n",
    "            if file.endswith('.jpg'):\n",
    "                image_path = os.path.join(root, file)\n",
    "                image_list.append(image_path)\n",
    "\n",
    "    return image_list\n",
    "\n",
    "train_img_list = create_img_list(train_folder_path)\n",
    "valid_img_list = create_img_list(valid_folder_path)\n",
    "# print(train_img_list)\n",
    "\n",
    "\n",
    "train_anno_path = os.path.join(data_folder,\"train\", \"annotations\")\n",
    "train_anno_files_list = os.listdir(train_anno_path)\n",
    "valid_anno_path = os.path.join(data_folder,\"validation\", \"annotations\")\n",
    "valid_anno_files_list = os.listdir(valid_anno_path)\n",
    "print(train_anno_path)\n",
    "print(train_anno_files_list)\n",
    "print(valid_anno_path)\n",
    "print(valid_anno_files_list)"
   ]
  },
  {
   "cell_type": "code",
   "execution_count": 6,
   "metadata": {},
   "outputs": [],
   "source": [
    "\"\"\" Extracting Lables from XML files \"\"\"\n",
    "\n",
    "def parseXML(xmlfile):\n",
    "    # create element tree object \n",
    "    tree = et.parse(xmlfile)  \n",
    "    # get root element \n",
    "    root = tree.getroot()\n",
    "\n",
    "    data = {}\n",
    "    data['filename'] = root.find('filename').text\n",
    "\n",
    "    size = root.find('size')\n",
    "    data['size'] = {\n",
    "        'width': int(size.find('width').text),\n",
    "        'height': int(size.find('height').text),\n",
    "        'depth': int(size.find('depth').text)\n",
    "    }\n",
    "    \n",
    "    obj = root.find('object')\n",
    "    data['object'] = {\n",
    "        'name': obj.find('name').text,\n",
    "        'pose': obj.find('pose').text,\n",
    "        'truncated': int(obj.find('truncated').text),\n",
    "        'difficult': int(obj.find('difficult').text),\n",
    "        'bndbox': {\n",
    "            'xmin': int(obj.find('bndbox/xmin').text),\n",
    "            'ymin': int(obj.find('bndbox/ymin').text),\n",
    "            'xmax': int(obj.find('bndbox/xmax').text),\n",
    "            'ymax': int(obj.find('bndbox/ymax').text)\n",
    "        }\n",
    "    }\n",
    "    # objects = []\n",
    "    # for obj in root.findall('object'):\n",
    "    #     obj_data = {\n",
    "    #         'name': obj.find('name').text,\n",
    "    #         'pose': obj.find('pose').text,\n",
    "    #         'truncated': int(obj.find('truncated').text),\n",
    "    #         'difficult': int(obj.find('difficult').text),\n",
    "    #         'bndbox': {\n",
    "    #             'xmin': int(obj.find('bndbox/xmin').text),\n",
    "    #             'ymin': int(obj.find('bndbox/ymin').text),\n",
    "    #             'xmax': int(obj.find('bndbox/xmax').text),\n",
    "    #             'ymax': int(obj.find('bndbox/ymax').text)\n",
    "    #         }\n",
    "    #     }\n",
    "    #     objects.append(obj_data)\n",
    "\n",
    "    # data['objects'] = objects\n",
    "\n",
    "    return data"
   ]
  },
  {
   "cell_type": "code",
   "execution_count": 7,
   "metadata": {},
   "outputs": [
    {
     "name": "stdout",
     "output_type": "stream",
     "text": [
      "['crazing', 'inclusion', 'patches', 'pitted_surface', 'rolled-in_scale', 'scratches']\n",
      "{'crazing': 0, 'inclusion': 1, 'patches': 2, 'pitted_surface': 3, 'rolled-in_scale': 4, 'scratches': 5}\n"
     ]
    }
   ],
   "source": [
    "\"\"\"\n",
    "Get distinct class labels from xml files\n",
    "Returns a list of distinct labels\n",
    "\"\"\"\n",
    "\n",
    "labels = []\n",
    "for anno in train_anno_files_list:\n",
    "    attr = parseXML(train_anno_path +\"\\\\\"+anno)\n",
    "    label = attr[\"object\"][\"name\"]\n",
    "    if label not in labels:\n",
    "        labels.append(label)\n",
    "print(labels)\n",
    "\n",
    "\"\"\"\n",
    "Assigning distinct values to each distinct label\n",
    "\"\"\"\n",
    "image_labels = {name: index for index, name in enumerate(labels)}\n",
    "print(image_labels)\n"
   ]
  },
  {
   "cell_type": "code",
   "execution_count": 8,
   "metadata": {},
   "outputs": [],
   "source": [
    "def get_image_example(image_string, width, height, filename, xmin, xmax, ymin, ymax, label, label_text):\n",
    "  # print('w & h',width, height)\n",
    "  feature = {\n",
    "        \"image/width\": _int64_feature(width),\n",
    "        \"image/height\": _int64_feature(height),\n",
    "        \"image/filename\":_bytes_feature(bytes(filename, 'utf-8')),\n",
    "        # 'image/source_id': root.find(\"source\").text,\n",
    "        \"image/encodedrawdata\": _bytes_feature(image_string),\n",
    "        \"image/format\": _bytes_feature(bytes(filename.split(\".\")[-1], 'utf-8')),  # Assuming filename contains format\n",
    "        \"image/object/bbox/xmin\": _float_feature(xmin),\n",
    "        \"image/object/bbox/xmax\": _float_feature(xmax),\n",
    "        \"image/object/bbox/ymin\": _float_feature(ymin),\n",
    "        \"image/object/bbox/ymax\": _float_feature(ymax),\n",
    "        \"image/object/class/text\": _bytes_feature(bytes(label_text, 'utf-8')),\n",
    "        \"image/object/class/label\": _int64_feature(label),\n",
    "        \"image/object/class/single\": _int64_feature(label),  # Assuming single class per object\n",
    "        \"image/object/difficult\": _int64_feature(0),  # Difficult is 0\n",
    "        \"image/object/truncated\": _int64_feature(0),  # Truncated is 0\n",
    "        \"image/object/view\": _bytes_feature(bytes(\"Unspecified\", 'utf-8'))  # Assuming view is Unspecified for simplicity\n",
    "    }\n",
    "\n",
    "  return tf.train.Example(features=tf.train.Features(feature=feature))\n",
    "\n",
    "  \"\"\"\n",
    "  Followed the article of Reading-Writing TFRecord for Images\n",
    "  https://www.tensorflow.org/tutorials/load_data/tfrecord\n",
    "  \"\"\""
   ]
  },
  {
   "cell_type": "code",
   "execution_count": 9,
   "metadata": {},
   "outputs": [],
   "source": [
    "# for img in train_img_list:\n",
    "#   img_name_ext = img.split(\"\\\\\")[-1]\n",
    "#   img_name = img_name_ext.split('.')[0]\n",
    "\n",
    "\n",
    "#   for anno in train_anno_files_list:\n",
    "#     anno_name = anno.split(\".\")[0]\n",
    "    \n",
    "#     if img_name == anno_name:\n",
    "#       attr = parseXML(train_anno_path +\"\\\\\"+anno)\n",
    "\n",
    "#       image_string = open(img, 'rb').read()\n",
    "\n",
    "#       filename = attr[\"filename\"]\n",
    "#       # print(filename)\n",
    "#       # print(filename.split('.')[1])\n",
    "#       width = attr[\"size\"][\"width\"]\n",
    "#       height = attr[\"size\"][\"height\"]\n",
    "\n",
    "#       xmin = attr[\"object\"][\"bndbox\"][\"xmin\"]\n",
    "#       ymin = attr[\"object\"][\"bndbox\"][\"ymin\"]\n",
    "#       xmax = attr[\"object\"][\"bndbox\"][\"xmax\"]\n",
    "#       ymax = attr[\"object\"][\"bndbox\"][\"ymax\"]\n",
    "\n",
    "#       # for obj in attr[\"object\"]:\n",
    "#       #   print(obj)\n",
    "#       #   xmin = obj[\"bndbox\"][\"xmin\"]\n",
    "#       #   ymin = obj[\"bndbox\"][\"ymin\"]\n",
    "#       #   xmax = obj[\"bndbox\"][\"xmax\"]\n",
    "#       #   ymax = obj[\"bndbox\"][\"ymax\"]\n",
    "\n",
    "#       label_text = attr[\"object\"][\"name\"]\n",
    "#       label = image_labels.get(label_text, -1)  # Get label index or -1 if not found\n",
    "\n",
    "#       # for line in str(get_image_example(image_string, width, height, filename, xmin, xmax, ymin, ymax, label, label_text)).split('\\n')[:15]:\n",
    "#       #   print(line)\n",
    "#       # print('...')"
   ]
  },
  {
   "cell_type": "code",
   "execution_count": 28,
   "metadata": {},
   "outputs": [],
   "source": [
    "def convert(image_paths,anno_list,anno_path, out_path):\n",
    "    # print('img :',image_paths)\n",
    "    # print('Op: ', out_path)\n",
    "    for img in image_paths:\n",
    "\n",
    "        img_name_ext = img.split(\"\\\\\")[-1]\n",
    "        img_name = img_name_ext.split('.')[0]\n",
    "\n",
    "        for anno in anno_list:\n",
    "            anno_name = anno.split(\".\")[0]\n",
    "    \n",
    "\n",
    "            if img_name == anno_name:\n",
    "                attr = parseXML(anno_path +\"\\\\\"+anno)\n",
    "\n",
    "                image_string = open(img, 'rb').read()\n",
    "\n",
    "                filename = attr[\"filename\"]\n",
    "                # print(filename)\n",
    "                # print(filename.split('.')[1])\n",
    "                width = attr[\"size\"][\"width\"]\n",
    "                height = attr[\"size\"][\"height\"]\n",
    "\n",
    "                xmin = attr[\"object\"][\"bndbox\"][\"xmin\"]\n",
    "                ymin = attr[\"object\"][\"bndbox\"][\"ymin\"]\n",
    "                xmax = attr[\"object\"][\"bndbox\"][\"xmax\"]\n",
    "                ymax = attr[\"object\"][\"bndbox\"][\"ymax\"]\n",
    "\n",
    "                # for obj in attr[\"object\"]:\n",
    "                #   print(obj)\n",
    "                #   xmin = obj[\"bndbox\"][\"xmin\"]\n",
    "                #   ymin = obj[\"bndbox\"][\"ymin\"]\n",
    "                #   xmax = obj[\"bndbox\"][\"xmax\"]\n",
    "                #   ymax = obj[\"bndbox\"][\"ymax\"]\n",
    "\n",
    "                label_text = attr[\"object\"][\"name\"]\n",
    "                label = image_labels.get(label_text, -1)  # Get label index or -1 if not found\n",
    "\n",
    "                image_string  = open((img), 'rb').read()\n",
    "                # print('argumets \\n', width, height, filename, xmin, xmax, ymin, ymax, label, label_text)\n",
    "                tf_example = get_image_example(image_string, width, height, filename, xmin, xmax, ymin, ymax, label, label_text)\n",
    "\n",
    "                file_name_ext = os.path.basename(img)\n",
    "                file_name = os.path.splitext(file_name_ext)[0]\n",
    "                output_filename = os.path.join(out_path, f'{file_name}.tfrecord')\n",
    "                with tf.io.TFRecordWriter(output_filename) as writer:\n",
    "                    writer.write(tf_example.SerializeToString())"
   ]
  },
  {
   "cell_type": "code",
   "execution_count": 29,
   "metadata": {},
   "outputs": [],
   "source": [
    "convert(train_img_list,train_anno_files_list ,train_anno_path , 'F:\\\\Coding\\\\cv_challenge\\\\TF_Records\\\\Train')\n",
    "convert(valid_img_list,valid_anno_files_list, valid_anno_path ,'F:\\\\Coding\\\\cv_challenge\\\\TF_Records\\\\Test')"
   ]
  },
  {
   "cell_type": "code",
   "execution_count": 42,
   "metadata": {},
   "outputs": [
    {
     "data": {
      "text/plain": [
       "<TFRecordDatasetV2 element_spec=TensorSpec(shape=(), dtype=tf.string, name=None)>"
      ]
     },
     "execution_count": 42,
     "metadata": {},
     "output_type": "execute_result"
    }
   ],
   "source": [
    "tfr_train = \"F:\\Coding\\cv_challenge\\TF_Records\\\\train\\scratches_6.tfrecord\"\n",
    "raw_image_dataset = tf.data.TFRecordDataset(filenames = [tfr_train])\n",
    "raw_image_dataset"
   ]
  },
  {
   "cell_type": "code",
   "execution_count": 43,
   "metadata": {},
   "outputs": [
    {
     "data": {
      "text/plain": [
       "<_MapDataset element_spec={'image/object/bbox/xmax': SparseTensorSpec(TensorShape([None]), tf.float32), 'image/object/bbox/xmin': SparseTensorSpec(TensorShape([None]), tf.float32), 'image/object/bbox/ymax': SparseTensorSpec(TensorShape([None]), tf.float32), 'image/object/bbox/ymin': SparseTensorSpec(TensorShape([None]), tf.float32), 'image/object/class/label': SparseTensorSpec(TensorShape([None]), tf.int64), 'image/object/class/text': SparseTensorSpec(TensorShape([None]), tf.string), 'image/object/difficult': SparseTensorSpec(TensorShape([None]), tf.int64), 'image/object/truncated': SparseTensorSpec(TensorShape([None]), tf.int64), 'image/object/view': SparseTensorSpec(TensorShape([None]), tf.string), 'image/encodedrawdata': TensorSpec(shape=(), dtype=tf.string, name=None), 'image/filename': TensorSpec(shape=(), dtype=tf.string, name=None), 'image/format': TensorSpec(shape=(), dtype=tf.string, name=None), 'image/height': TensorSpec(shape=(), dtype=tf.int64, name=None), 'image/object/class/single': TensorSpec(shape=(), dtype=tf.int64, name=None), 'image/width': TensorSpec(shape=(), dtype=tf.int64, name=None)}>"
      ]
     },
     "execution_count": 43,
     "metadata": {},
     "output_type": "execute_result"
    }
   ],
   "source": [
    "image_feature_description  = {\n",
    "      \"image/width\": tf.io.FixedLenFeature([], tf.int64),\n",
    "      \"image/height\": tf.io.FixedLenFeature([], tf.int64),\n",
    "      'image/filename': tf.io.FixedLenFeature([], tf.string),\n",
    "      # 'image/source_id': tf.io.FixedLenFeature([], tf.string),\n",
    "      'image/encodedrawdata': tf.io.FixedLenFeature([], tf.string),\n",
    "      'image/format': tf.io.FixedLenFeature([], tf.string),\n",
    "      'image/object/bbox/xmin': tf.io.VarLenFeature(tf.float32),\n",
    "      'image/object/bbox/xmax': tf.io.VarLenFeature(tf.float32),\n",
    "      'image/object/bbox/ymin': tf.io.VarLenFeature(tf.float32),\n",
    "      'image/object/bbox/ymax': tf.io.VarLenFeature(tf.float32),\n",
    "      'image/object/class/text': tf.io.VarLenFeature(tf.string),\n",
    "      'image/object/class/label': tf.io.VarLenFeature(tf.int64),\n",
    "      'image/object/class/single': tf.io.FixedLenFeature([], tf.int64),\n",
    "      'image/object/difficult': tf.io.VarLenFeature(tf.int64),\n",
    "      'image/object/truncated': tf.io.VarLenFeature(tf.int64),\n",
    "      'image/object/view': tf.io.VarLenFeature(tf.string)\n",
    "  }\n",
    "\n",
    "def _parse_image_function(example_proto):\n",
    "  # Parse the input tf.train.Example proto using the dictionary above.\n",
    "  return tf.io.parse_single_example(example_proto, image_feature_description )\n",
    "\n",
    "parsed_image_dataset = raw_image_dataset.map(_parse_image_function)\n",
    "parsed_image_dataset"
   ]
  },
  {
   "cell_type": "code",
   "execution_count": 44,
   "metadata": {},
   "outputs": [
    {
     "name": "stdout",
     "output_type": "stream",
     "text": [
      "tf.Tensor(b'scratches_6.jpg', shape=(), dtype=string)\n"
     ]
    },
    {
     "data": {
      "image/jpeg": "[encoded data removed]",
      "text/plain": [
       "<IPython.core.display.Image object>"
      ]
     },
     "metadata": {},
     "output_type": "display_data"
    }
   ],
   "source": [
    "for image_features in parsed_image_dataset:\n",
    "    # print(image_features['image/encodedrawdata'])\n",
    "    image_raw = image_features['image/encodedrawdata'].numpy()\n",
    "    print(image_features['image/filename'])\n",
    "    display.display(display.Image(data=image_raw))"
   ]
  },
  {
   "cell_type": "markdown",
   "metadata": {},
   "source": [
    "### Task 2 - Classification"
   ]
  },
  {
   "cell_type": "code",
   "execution_count": null,
   "metadata": {},
   "outputs": [],
   "source": []
  }
 ],
 "metadata": {
  "kernelspec": {
   "display_name": ".venv",
   "language": "python",
   "name": "python3"
  },
  "language_info": {
   "codemirror_mode": {
    "name": "ipython",
    "version": 3
   },
   "file_extension": ".py",
   "mimetype": "text/x-python",
   "name": "python",
   "nbconvert_exporter": "python",
   "pygments_lexer": "ipython3",
   "version": "3.11.6"
  }
 },
 "nbformat": 4,
 "nbformat_minor": 2
}
